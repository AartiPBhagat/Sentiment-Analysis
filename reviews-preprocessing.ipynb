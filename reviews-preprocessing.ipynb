{
 "cells": [
  {
   "cell_type": "code",
   "execution_count": 1,
   "id": "939512ae-b3f0-4d11-88d5-0ac0fc7a8fb2",
   "metadata": {
    "tags": []
   },
   "outputs": [],
   "source": [
    "import pandas as pd\n",
    "pd.set_option('display.max_colwidth',None)"
   ]
  },
  {
   "cell_type": "code",
   "execution_count": 2,
   "id": "2d9fb011-578b-4857-870b-ed7703696c3e",
   "metadata": {
    "tags": []
   },
   "outputs": [],
   "source": [
    "data = pd.read_csv('reviews_d.csv')"
   ]
  },
  {
   "cell_type": "code",
   "execution_count": 3,
   "id": "2b8622d0-ac69-4d12-a5c7-523de8207fd7",
   "metadata": {},
   "outputs": [
    {
     "data": {
      "text/plain": [
       "listing_id        10378\n",
       "id               478551\n",
       "date               4456\n",
       "reviewer_id      440915\n",
       "reviewer_name     59538\n",
       "comments         460615\n",
       "dtype: int64"
      ]
     },
     "execution_count": 3,
     "metadata": {},
     "output_type": "execute_result"
    }
   ],
   "source": [
    "data.nunique()"
   ]
  },
  {
   "cell_type": "code",
   "execution_count": 4,
   "id": "3d183099-f565-41ae-a9b7-fcf0e250bf53",
   "metadata": {
    "tags": []
   },
   "outputs": [
    {
     "data": {
      "text/plain": [
       "listing_id        0\n",
       "id                0\n",
       "date              0\n",
       "reviewer_id       0\n",
       "reviewer_name     0\n",
       "comments         25\n",
       "dtype: int64"
      ]
     },
     "execution_count": 4,
     "metadata": {},
     "output_type": "execute_result"
    }
   ],
   "source": [
    "data.isna().sum()"
   ]
  },
  {
   "cell_type": "code",
   "execution_count": 5,
   "id": "e10aee2b-2e60-4185-bac2-ed04e98ff7d6",
   "metadata": {
    "tags": []
   },
   "outputs": [
    {
     "name": "stdout",
     "output_type": "stream",
     "text": [
      "<class 'pandas.core.frame.DataFrame'>\n",
      "Int64Index: 478526 entries, 0 to 478550\n",
      "Data columns (total 6 columns):\n",
      " #   Column         Non-Null Count   Dtype \n",
      "---  ------         --------------   ----- \n",
      " 0   listing_id     478526 non-null  int64 \n",
      " 1   id             478526 non-null  int64 \n",
      " 2   date           478526 non-null  object\n",
      " 3   reviewer_id    478526 non-null  int64 \n",
      " 4   reviewer_name  478526 non-null  object\n",
      " 5   comments       478526 non-null  object\n",
      "dtypes: int64(3), object(3)\n",
      "memory usage: 25.6+ MB\n"
     ]
    }
   ],
   "source": [
    "df = data.dropna(subset=['comments'])\n",
    "df.info()"
   ]
  },
  {
   "cell_type": "code",
   "execution_count": 6,
   "id": "9b77a130-af17-482e-a0f7-94c1164cae50",
   "metadata": {
    "tags": []
   },
   "outputs": [
    {
     "data": {
      "text/html": [
       "<div>\n",
       "<style scoped>\n",
       "    .dataframe tbody tr th:only-of-type {\n",
       "        vertical-align: middle;\n",
       "    }\n",
       "\n",
       "    .dataframe tbody tr th {\n",
       "        vertical-align: top;\n",
       "    }\n",
       "\n",
       "    .dataframe thead th {\n",
       "        text-align: right;\n",
       "    }\n",
       "</style>\n",
       "<table border=\"1\" class=\"dataframe\">\n",
       "  <thead>\n",
       "    <tr style=\"text-align: right;\">\n",
       "      <th></th>\n",
       "      <th>listing_id</th>\n",
       "      <th>id</th>\n",
       "      <th>date</th>\n",
       "      <th>reviewer_id</th>\n",
       "      <th>reviewer_name</th>\n",
       "      <th>comments</th>\n",
       "    </tr>\n",
       "  </thead>\n",
       "  <tbody>\n",
       "    <tr>\n",
       "      <th>181871</th>\n",
       "      <td>14648612</td>\n",
       "      <td>125521028</td>\n",
       "      <td>2017-01-06</td>\n",
       "      <td>6938302</td>\n",
       "      <td>Alex</td>\n",
       "      <td>A really special city hideaway with the most beautiful instrument to play.</td>\n",
       "    </tr>\n",
       "    <tr>\n",
       "      <th>98584</th>\n",
       "      <td>4380854</td>\n",
       "      <td>615051079</td>\n",
       "      <td>2020-03-07</td>\n",
       "      <td>183223420</td>\n",
       "      <td>Matt</td>\n",
       "      <td>A very friendly host in a great, central spot in Berlin. I’d be happy to stay here again.</td>\n",
       "    </tr>\n",
       "    <tr>\n",
       "      <th>339344</th>\n",
       "      <td>32066095</td>\n",
       "      <td>951325206311246524</td>\n",
       "      <td>2023-08-05</td>\n",
       "      <td>25876505</td>\n",
       "      <td>Sophie</td>\n",
       "      <td>Love the place and the neighborhood ! Great place to stay</td>\n",
       "    </tr>\n",
       "    <tr>\n",
       "      <th>8415</th>\n",
       "      <td>321378</td>\n",
       "      <td>750908213</td>\n",
       "      <td>2021-04-22</td>\n",
       "      <td>188917018</td>\n",
       "      <td>Lea</td>\n",
       "      <td>Vielen Dank für die nette Gastfreundschaft, kommen gerne wieder.</td>\n",
       "    </tr>\n",
       "    <tr>\n",
       "      <th>256715</th>\n",
       "      <td>22162940</td>\n",
       "      <td>643859093</td>\n",
       "      <td>2020-07-29</td>\n",
       "      <td>56015160</td>\n",
       "      <td>Karen</td>\n",
       "      <td>Es hat uns und den Kindern sehr gut gefallen. Wir können das Hostel nur weiterempfehlen!</td>\n",
       "    </tr>\n",
       "    <tr>\n",
       "      <th>461117</th>\n",
       "      <td>677433898395003666</td>\n",
       "      <td>860667292270905086</td>\n",
       "      <td>2023-04-02</td>\n",
       "      <td>342681926</td>\n",
       "      <td>Sebastian</td>\n",
       "      <td>Sehr schön, gerne wieder!</td>\n",
       "    </tr>\n",
       "    <tr>\n",
       "      <th>323318</th>\n",
       "      <td>30384248</td>\n",
       "      <td>557447106</td>\n",
       "      <td>2019-11-01</td>\n",
       "      <td>100405155</td>\n",
       "      <td>Oscar</td>\n",
       "      <td>It was a very pleasant time in her apartment. The apartment has everything you need, and very clean. Kristina is always available and respond you very quickly.  A very good choose to stay in Berlin. 100% recommended!</td>\n",
       "    </tr>\n",
       "    <tr>\n",
       "      <th>197676</th>\n",
       "      <td>16209988</td>\n",
       "      <td>864325485181106677</td>\n",
       "      <td>2023-04-07</td>\n",
       "      <td>23577912</td>\n",
       "      <td>Andrew</td>\n",
       "      <td>This is a fantastic, spacious place in the heart of Berlin. very close to the central train station. The apartment is light, spacious, well stocked and very clean. We were met by the host who gave us a walk-thru and made us feel very welcome. I recommend it to anyone looking to stay in Berlin</td>\n",
       "    </tr>\n",
       "    <tr>\n",
       "      <th>199311</th>\n",
       "      <td>16237757</td>\n",
       "      <td>538711720</td>\n",
       "      <td>2019-09-30</td>\n",
       "      <td>118281358</td>\n",
       "      <td>Marilyn</td>\n",
       "      <td>Amazing place to stay, especially if traveling in bigger groups. Super spacious, clean and accommodating. Kitchen was complete with all the necessities and markets were close by. Check in/out was smooth as ever and would definitely recommend to friends and family. Thank you to Gabby for the wonderful tips! Thank you also to our hosts for having us!</td>\n",
       "    </tr>\n",
       "    <tr>\n",
       "      <th>50381</th>\n",
       "      <td>1111145</td>\n",
       "      <td>319429718</td>\n",
       "      <td>2018-09-06</td>\n",
       "      <td>8704329</td>\n",
       "      <td>Nicholas</td>\n",
       "      <td>Great location and great space!</td>\n",
       "    </tr>\n",
       "  </tbody>\n",
       "</table>\n",
       "</div>"
      ],
      "text/plain": [
       "                listing_id                  id        date  reviewer_id  \\\n",
       "181871            14648612           125521028  2017-01-06      6938302   \n",
       "98584              4380854           615051079  2020-03-07    183223420   \n",
       "339344            32066095  951325206311246524  2023-08-05     25876505   \n",
       "8415                321378           750908213  2021-04-22    188917018   \n",
       "256715            22162940           643859093  2020-07-29     56015160   \n",
       "461117  677433898395003666  860667292270905086  2023-04-02    342681926   \n",
       "323318            30384248           557447106  2019-11-01    100405155   \n",
       "197676            16209988  864325485181106677  2023-04-07     23577912   \n",
       "199311            16237757           538711720  2019-09-30    118281358   \n",
       "50381              1111145           319429718  2018-09-06      8704329   \n",
       "\n",
       "       reviewer_name  \\\n",
       "181871          Alex   \n",
       "98584           Matt   \n",
       "339344        Sophie   \n",
       "8415             Lea   \n",
       "256715         Karen   \n",
       "461117     Sebastian   \n",
       "323318         Oscar   \n",
       "197676        Andrew   \n",
       "199311       Marilyn   \n",
       "50381       Nicholas   \n",
       "\n",
       "                                                                                                                                                                                                                                                                                                                                                              comments  \n",
       "181871                                                                                                                                                                                                                                                                                      A really special city hideaway with the most beautiful instrument to play.  \n",
       "98584                                                                                                                                                                                                                                                                        A very friendly host in a great, central spot in Berlin. I’d be happy to stay here again.  \n",
       "339344                                                                                                                                                                                                                                                                                                       Love the place and the neighborhood ! Great place to stay  \n",
       "8415                                                                                                                                                                                                                                                                                                  Vielen Dank für die nette Gastfreundschaft, kommen gerne wieder.  \n",
       "256715                                                                                                                                                                                                                                                                        Es hat uns und den Kindern sehr gut gefallen. Wir können das Hostel nur weiterempfehlen!  \n",
       "461117                                                                                                                                                                                                                                                                                                                                       Sehr schön, gerne wieder!  \n",
       "323318                                                                                                                                        It was a very pleasant time in her apartment. The apartment has everything you need, and very clean. Kristina is always available and respond you very quickly.  A very good choose to stay in Berlin. 100% recommended!  \n",
       "197676                                                           This is a fantastic, spacious place in the heart of Berlin. very close to the central train station. The apartment is light, spacious, well stocked and very clean. We were met by the host who gave us a walk-thru and made us feel very welcome. I recommend it to anyone looking to stay in Berlin  \n",
       "199311  Amazing place to stay, especially if traveling in bigger groups. Super spacious, clean and accommodating. Kitchen was complete with all the necessities and markets were close by. Check in/out was smooth as ever and would definitely recommend to friends and family. Thank you to Gabby for the wonderful tips! Thank you also to our hosts for having us!  \n",
       "50381                                                                                                                                                                                                                                                                                                                                  Great location and great space!  "
      ]
     },
     "execution_count": 6,
     "metadata": {},
     "output_type": "execute_result"
    }
   ],
   "source": [
    "df.sample(10)"
   ]
  },
  {
   "cell_type": "markdown",
   "id": "1cc5ea35-398e-49dc-aae9-a57fbafc7224",
   "metadata": {},
   "source": [
    "## reviews cleaning and preprocessing"
   ]
  },
  {
   "cell_type": "code",
   "execution_count": 7,
   "id": "9e3bf9d2-07b9-4c28-a7c7-85a784d4984c",
   "metadata": {
    "tags": []
   },
   "outputs": [],
   "source": [
    "import re\n",
    "import string\n",
    "\n",
    "def remove_emojis(data):\n",
    "    emoj = re.compile(\"[\"\n",
    "        u\"\\U0001F600-\\U0001F64F\"  # emoticons\n",
    "        u\"\\U0001F300-\\U0001F5FF\"  # symbols & pictographs\n",
    "        u\"\\U0001F680-\\U0001F6FF\"  # transport & map symbols\n",
    "        u\"\\U0001F1E0-\\U0001F1FF\"  # flags (iOS)\n",
    "        u\"\\U00002500-\\U00002BEF\"  # chinese char\n",
    "        u\"\\U00002702-\\U000027B0\"\n",
    "        u\"\\U000024C2-\\U0001F251\"\n",
    "        u\"\\U0001f926-\\U0001f937\"\n",
    "        u\"\\U00010000-\\U0010ffff\"\n",
    "        u\"\\u2640-\\u2642\" \n",
    "        u\"\\u2600-\\u2B55\"\n",
    "        u\"\\u200d\"\n",
    "        u\"\\u23cf\"\n",
    "        u\"\\u23e9\"\n",
    "        u\"\\u231a\"\n",
    "        u\"\\ufe0f\"  # dingbats\n",
    "        u\"\\u3030\"\n",
    "                      \"]+\", re.UNICODE)\n",
    "    return re.sub(emoj, '', data)\n",
    "\n",
    "def remove_html_tags(data):\n",
    "    clean_text = re.sub(r'<.*?>', ' ', data)  # Remove HTML tags\n",
    "    clean_text = clean_text.replace('\\r', ' ')  # Replace '\\r' with a space\n",
    "    return clean_text\n",
    "\n",
    "def remove_punctuation(text):\n",
    "    \n",
    "    translator = str.maketrans('', '', string.punctuation)\n",
    "    \n",
    "    text = text.translate(translator)\n",
    "    \n",
    "    return text.lower()"
   ]
  },
  {
   "cell_type": "code",
   "execution_count": 8,
   "id": "26639d0c-498e-4a35-a591-6f803fdfd35b",
   "metadata": {
    "tags": []
   },
   "outputs": [
    {
     "data": {
      "text/plain": [
       "'vielen dank  übergabe der wohnung und hygiene waren top  i felt comfortable and refreshed in such a pristinesmall environment ashrafs commitment to maintaining order and organization in his home was truly commendable her kitchen living room and garten are great she is very generous in sharing them     she once drove me to the supermarket for shopping and a few times offered me a breakfast dinner or fruits'"
      ]
     },
     "execution_count": 8,
     "metadata": {},
     "output_type": "execute_result"
    }
   ],
   "source": [
    "# Sample text\n",
    "texts = \"Vielen Dank 🙏🏼 Übergabe der Wohnung und Hygiene waren Top !! I felt comfortable# and refreshed! in such a pristine(small) environment.<br/>Ashraf's commitment to maintaining order and organization in his home was truly commendable. Her kitchen, living room and garten are great, she is very generous in sharing them. \\r<br/>\\r<br/>She once drove me to the supermarket for shopping and a few times offered me a breakfast, dinner or fruits.\"\n",
    "\n",
    "cleaned_texts = remove_emojis(texts)\n",
    "cleaned_texts = remove_html_tags(cleaned_texts)\n",
    "cleaned_texts = remove_punctuation(cleaned_texts)\n",
    "\n",
    "cleaned_texts"
   ]
  },
  {
   "cell_type": "code",
   "execution_count": 9,
   "id": "42d1944f-694a-4899-a353-9a0dd78e6b8b",
   "metadata": {
    "tags": []
   },
   "outputs": [
    {
     "name": "stderr",
     "output_type": "stream",
     "text": [
      "/var/folders/_s/vfqjvx2n6gl0d9lhmtd6m8l00000gn/T/ipykernel_96380/2512759632.py:1: SettingWithCopyWarning: \n",
      "A value is trying to be set on a copy of a slice from a DataFrame.\n",
      "Try using .loc[row_indexer,col_indexer] = value instead\n",
      "\n",
      "See the caveats in the documentation: https://pandas.pydata.org/pandas-docs/stable/user_guide/indexing.html#returning-a-view-versus-a-copy\n",
      "  df['comments_proc'] = df['comments'].apply(remove_emojis)\n",
      "/var/folders/_s/vfqjvx2n6gl0d9lhmtd6m8l00000gn/T/ipykernel_96380/2512759632.py:2: SettingWithCopyWarning: \n",
      "A value is trying to be set on a copy of a slice from a DataFrame.\n",
      "Try using .loc[row_indexer,col_indexer] = value instead\n",
      "\n",
      "See the caveats in the documentation: https://pandas.pydata.org/pandas-docs/stable/user_guide/indexing.html#returning-a-view-versus-a-copy\n",
      "  df['comments_proc'] = df['comments_proc'].apply(remove_html_tags)\n",
      "/var/folders/_s/vfqjvx2n6gl0d9lhmtd6m8l00000gn/T/ipykernel_96380/2512759632.py:3: SettingWithCopyWarning: \n",
      "A value is trying to be set on a copy of a slice from a DataFrame.\n",
      "Try using .loc[row_indexer,col_indexer] = value instead\n",
      "\n",
      "See the caveats in the documentation: https://pandas.pydata.org/pandas-docs/stable/user_guide/indexing.html#returning-a-view-versus-a-copy\n",
      "  df['comments_proc'] = df['comments_proc'].apply(remove_punctuation)\n"
     ]
    }
   ],
   "source": [
    "df['comments_proc'] = df['comments'].apply(remove_emojis)\n",
    "df['comments_proc'] = df['comments_proc'].apply(remove_html_tags)\n",
    "df['comments_proc'] = df['comments_proc'].apply(remove_punctuation)"
   ]
  },
  {
   "cell_type": "code",
   "execution_count": 10,
   "id": "a2d680e0-65ff-4b76-bf74-8d3187da98da",
   "metadata": {
    "tags": []
   },
   "outputs": [
    {
     "data": {
      "text/html": [
       "<div>\n",
       "<style scoped>\n",
       "    .dataframe tbody tr th:only-of-type {\n",
       "        vertical-align: middle;\n",
       "    }\n",
       "\n",
       "    .dataframe tbody tr th {\n",
       "        vertical-align: top;\n",
       "    }\n",
       "\n",
       "    .dataframe thead th {\n",
       "        text-align: right;\n",
       "    }\n",
       "</style>\n",
       "<table border=\"1\" class=\"dataframe\">\n",
       "  <thead>\n",
       "    <tr style=\"text-align: right;\">\n",
       "      <th></th>\n",
       "      <th>comments</th>\n",
       "      <th>comments_proc</th>\n",
       "    </tr>\n",
       "  </thead>\n",
       "  <tbody>\n",
       "    <tr>\n",
       "      <th>377534</th>\n",
       "      <td>Convenient location, good wifi, very warm and cozy room. Lovely housemate! Unfortunately didn’t get to meet Aneta but she seemed lovely over message :) would recommend for solo traveller on a budget</td>\n",
       "      <td>convenient location good wifi very warm and cozy room lovely housemate unfortunately didn’t get to meet aneta but she seemed lovely over message  would recommend for solo traveller on a budget</td>\n",
       "    </tr>\n",
       "    <tr>\n",
       "      <th>29471</th>\n",
       "      <td>A wonderful and conveniently located apartment in Neukölln. The hosts were responsive, and even took the time to offer extensions of the stay when they became available. I would heartily recommend this to anyone.</td>\n",
       "      <td>a wonderful and conveniently located apartment in neukölln the hosts were responsive and even took the time to offer extensions of the stay when they became available i would heartily recommend this to anyone</td>\n",
       "    </tr>\n",
       "    <tr>\n",
       "      <th>115843</th>\n",
       "      <td>Great, clean and well equiped apartment. Big living room and a terrace - both places where you can chill. Also it was a very good starting point for city tours.\\r&lt;br/&gt;\\r&lt;br/&gt;Jan is a great host, he is very helpful. It was a pleasure to stay at his apartment. I can wholeheartedly recommend Jan and his flat.</td>\n",
       "      <td>great clean and well equiped apartment big living room and a terrace  both places where you can chill also it was a very good starting point for city tours    jan is a great host he is very helpful it was a pleasure to stay at his apartment i can wholeheartedly recommend jan and his flat</td>\n",
       "    </tr>\n",
       "    <tr>\n",
       "      <th>161244</th>\n",
       "      <td>The accommodation was good. The first impression about the location was not good. It looked like a social neighborhood but that could be because it was similar to the ones I have in my home country and because it was the first time in Berlin too. But at night the location was quiet and calm. The room did not have curtains to fully stop light from the window. I had to block the light with the blanket which was not easy to breath. If you have light sensitivity then you might want to bring a eye night patch.&lt;br/&gt;The host were very nice and Ece was very fast to respond and flexible with the check-in time.&lt;br/&gt;It was my first time using airbnb and this bedroom was a good experience.</td>\n",
       "      <td>the accommodation was good the first impression about the location was not good it looked like a social neighborhood but that could be because it was similar to the ones i have in my home country and because it was the first time in berlin too but at night the location was quiet and calm the room did not have curtains to fully stop light from the window i had to block the light with the blanket which was not easy to breath if you have light sensitivity then you might want to bring a eye night patch the host were very nice and ece was very fast to respond and flexible with the checkin time it was my first time using airbnb and this bedroom was a good experience</td>\n",
       "    </tr>\n",
       "    <tr>\n",
       "      <th>153255</th>\n",
       "      <td>Excellent location, quiet and central.</td>\n",
       "      <td>excellent location quiet and central</td>\n",
       "    </tr>\n",
       "    <tr>\n",
       "      <th>29485</th>\n",
       "      <td>Ich fühlte mich von Beginn weg wohl und willkommen bei Samia, das Zimmer und das Bad sind wunderschön, es ist alles sehr sauber und mit viel Gefühl fürs Detail eingerichtet. Das Zimmer liegt zu einem ruhigen Innenhof hin. Was für mich super war.&lt;br/&gt;Das Ankommen bei Samia war sehr angenehm, sie hat sich Zeit genommen mir alles zu zeigen und zu erklären. Samia war sehr herzlich und hilfsbereit. Für mich war es der perfekte Spot für meinen Aufenthalt in Berlin.&lt;br/&gt;Ich kann Samia und ihre Unterkunft von herzen weiterempfehlen!</td>\n",
       "      <td>ich fühlte mich von beginn weg wohl und willkommen bei samia das zimmer und das bad sind wunderschön es ist alles sehr sauber und mit viel gefühl fürs detail eingerichtet das zimmer liegt zu einem ruhigen innenhof hin was für mich super war das ankommen bei samia war sehr angenehm sie hat sich zeit genommen mir alles zu zeigen und zu erklären samia war sehr herzlich und hilfsbereit für mich war es der perfekte spot für meinen aufenthalt in berlin ich kann samia und ihre unterkunft von herzen weiterempfehlen</td>\n",
       "    </tr>\n",
       "    <tr>\n",
       "      <th>434150</th>\n",
       "      <td>It was a great location and also felt safe being there, the other guests were friendly and alway said hello. Check in was very easy but host was a little slow to respond, other than that I enjoyed my stay</td>\n",
       "      <td>it was a great location and also felt safe being there the other guests were friendly and alway said hello check in was very easy but host was a little slow to respond other than that i enjoyed my stay</td>\n",
       "    </tr>\n",
       "    <tr>\n",
       "      <th>327323</th>\n",
       "      <td>Very nice apartments! Very nice owner! Very nice everything &lt;3</td>\n",
       "      <td>very nice apartments very nice owner very nice everything 3</td>\n",
       "    </tr>\n",
       "    <tr>\n",
       "      <th>148581</th>\n",
       "      <td>great!</td>\n",
       "      <td>great</td>\n",
       "    </tr>\n",
       "    <tr>\n",
       "      <th>56144</th>\n",
       "      <td>Karen was excellent with communication. The apartment was easy to find and very well located, just a few blocks from the \"Kapelle der Versöhnung,\" (on the old east/west border) and a subway station. It was well-equipped, clean, and functional. Walking in the evenings along the nearby memorials / information sites / parks associated with the wall was very pleasant. The center of the city was also reachable by foot in about 30 minutes. Some meter-readers did knock on our window at around 9:30 in the morning on our last day (before we were fully clothed) to gain entrance, which was a bit surprising.</td>\n",
       "      <td>karen was excellent with communication the apartment was easy to find and very well located just a few blocks from the kapelle der versöhnung on the old eastwest border and a subway station it was wellequipped clean and functional walking in the evenings along the nearby memorials  information sites  parks associated with the wall was very pleasant the center of the city was also reachable by foot in about 30 minutes some meterreaders did knock on our window at around 930 in the morning on our last day before we were fully clothed to gain entrance which was a bit surprising</td>\n",
       "    </tr>\n",
       "  </tbody>\n",
       "</table>\n",
       "</div>"
      ],
      "text/plain": [
       "                                                                                                                                                                                                                                                                                                                                                                                                                                                                                                                                                                                                                                                                                                              comments  \\\n",
       "377534                                                                                                                                                                                                                                                                                                                                                                                                                                                                                                          Convenient location, good wifi, very warm and cozy room. Lovely housemate! Unfortunately didn’t get to meet Aneta but she seemed lovely over message :) would recommend for solo traveller on a budget   \n",
       "29471                                                                                                                                                                                                                                                                                                                                                                                                                                                                                             A wonderful and conveniently located apartment in Neukölln. The hosts were responsive, and even took the time to offer extensions of the stay when they became available. I would heartily recommend this to anyone.   \n",
       "115843                                                                                                                                                                                                                                                                                                                                                                                             Great, clean and well equiped apartment. Big living room and a terrace - both places where you can chill. Also it was a very good starting point for city tours.\\r<br/>\\r<br/>Jan is a great host, he is very helpful. It was a pleasure to stay at his apartment. I can wholeheartedly recommend Jan and his flat.   \n",
       "161244  The accommodation was good. The first impression about the location was not good. It looked like a social neighborhood but that could be because it was similar to the ones I have in my home country and because it was the first time in Berlin too. But at night the location was quiet and calm. The room did not have curtains to fully stop light from the window. I had to block the light with the blanket which was not easy to breath. If you have light sensitivity then you might want to bring a eye night patch.<br/>The host were very nice and Ece was very fast to respond and flexible with the check-in time.<br/>It was my first time using airbnb and this bedroom was a good experience.   \n",
       "153255                                                                                                                                                                                                                                                                                                                                                                                                                                                                                                                                                                                                                                                                          Excellent location, quiet and central.   \n",
       "29485                                                                                                                                                               Ich fühlte mich von Beginn weg wohl und willkommen bei Samia, das Zimmer und das Bad sind wunderschön, es ist alles sehr sauber und mit viel Gefühl fürs Detail eingerichtet. Das Zimmer liegt zu einem ruhigen Innenhof hin. Was für mich super war.<br/>Das Ankommen bei Samia war sehr angenehm, sie hat sich Zeit genommen mir alles zu zeigen und zu erklären. Samia war sehr herzlich und hilfsbereit. Für mich war es der perfekte Spot für meinen Aufenthalt in Berlin.<br/>Ich kann Samia und ihre Unterkunft von herzen weiterempfehlen!   \n",
       "434150                                                                                                                                                                                                                                                                                                                                                                                                                                                                                                    It was a great location and also felt safe being there, the other guests were friendly and alway said hello. Check in was very easy but host was a little slow to respond, other than that I enjoyed my stay   \n",
       "327323                                                                                                                                                                                                                                                                                                                                                                                                                                                                                                                                                                                                                                                  Very nice apartments! Very nice owner! Very nice everything <3   \n",
       "148581                                                                                                                                                                                                                                                                                                                                                                                                                                                                                                                                                                                                                                                                                                          great!   \n",
       "56144                                                                                      Karen was excellent with communication. The apartment was easy to find and very well located, just a few blocks from the \"Kapelle der Versöhnung,\" (on the old east/west border) and a subway station. It was well-equipped, clean, and functional. Walking in the evenings along the nearby memorials / information sites / parks associated with the wall was very pleasant. The center of the city was also reachable by foot in about 30 minutes. Some meter-readers did knock on our window at around 9:30 in the morning on our last day (before we were fully clothed) to gain entrance, which was a bit surprising.   \n",
       "\n",
       "                                                                                                                                                                                                                                                                                                                                                                                                                                                                                                                                                                                                                                                                                       comments_proc  \n",
       "377534                                                                                                                                                                                                                                                                                                                                                                                                                                                                                              convenient location good wifi very warm and cozy room lovely housemate unfortunately didn’t get to meet aneta but she seemed lovely over message  would recommend for solo traveller on a budget  \n",
       "29471                                                                                                                                                                                                                                                                                                                                                                                                                                                                               a wonderful and conveniently located apartment in neukölln the hosts were responsive and even took the time to offer extensions of the stay when they became available i would heartily recommend this to anyone  \n",
       "115843                                                                                                                                                                                                                                                                                                                                                                                              great clean and well equiped apartment big living room and a terrace  both places where you can chill also it was a very good starting point for city tours    jan is a great host he is very helpful it was a pleasure to stay at his apartment i can wholeheartedly recommend jan and his flat  \n",
       "161244  the accommodation was good the first impression about the location was not good it looked like a social neighborhood but that could be because it was similar to the ones i have in my home country and because it was the first time in berlin too but at night the location was quiet and calm the room did not have curtains to fully stop light from the window i had to block the light with the blanket which was not easy to breath if you have light sensitivity then you might want to bring a eye night patch the host were very nice and ece was very fast to respond and flexible with the checkin time it was my first time using airbnb and this bedroom was a good experience  \n",
       "153255                                                                                                                                                                                                                                                                                                                                                                                                                                                                                                                                                                                                                                                          excellent location quiet and central  \n",
       "29485                                                                                                                                                               ich fühlte mich von beginn weg wohl und willkommen bei samia das zimmer und das bad sind wunderschön es ist alles sehr sauber und mit viel gefühl fürs detail eingerichtet das zimmer liegt zu einem ruhigen innenhof hin was für mich super war das ankommen bei samia war sehr angenehm sie hat sich zeit genommen mir alles zu zeigen und zu erklären samia war sehr herzlich und hilfsbereit für mich war es der perfekte spot für meinen aufenthalt in berlin ich kann samia und ihre unterkunft von herzen weiterempfehlen  \n",
       "434150                                                                                                                                                                                                                                                                                                                                                                                                                                                                                     it was a great location and also felt safe being there the other guests were friendly and alway said hello check in was very easy but host was a little slow to respond other than that i enjoyed my stay  \n",
       "327323                                                                                                                                                                                                                                                                                                                                                                                                                                                                                                                                                                                                                                   very nice apartments very nice owner very nice everything 3  \n",
       "148581                                                                                                                                                                                                                                                                                                                                                                                                                                                                                                                                                                                                                                                                                         great  \n",
       "56144                                                                                           karen was excellent with communication the apartment was easy to find and very well located just a few blocks from the kapelle der versöhnung on the old eastwest border and a subway station it was wellequipped clean and functional walking in the evenings along the nearby memorials  information sites  parks associated with the wall was very pleasant the center of the city was also reachable by foot in about 30 minutes some meterreaders did knock on our window at around 930 in the morning on our last day before we were fully clothed to gain entrance which was a bit surprising  "
      ]
     },
     "execution_count": 10,
     "metadata": {},
     "output_type": "execute_result"
    }
   ],
   "source": [
    "df[['comments','comments_proc']].sample(10)"
   ]
  },
  {
   "cell_type": "markdown",
   "id": "57924cfa-9dc4-4a5f-b500-ecc73e88e029",
   "metadata": {},
   "source": [
    "## bert-base-multilingual-uncased-sentiment\n",
    "\n",
    "Reference : https://huggingface.co/nlptown/bert-base-multilingual-uncased-sentiment\n",
    "\n",
    "Ranking based on sentiment scores :\n",
    "1 - Very Negative\n",
    "2 - Negative\n",
    "3 - Neutral\n",
    "4 - Positive\n",
    "5 - Very Positive\n",
    "\n",
    "Used this model to predict sentiment based ranking for each guest review - comment."
   ]
  },
  {
   "cell_type": "markdown",
   "id": "57f3b774-8b75-4b45-86c2-c96e6a4cb3b2",
   "metadata": {},
   "source": [
    "Motive behind using this pre-trained model is that it is trained for 6 different languages, English, Dutch, German, French, Spanish, and Italian."
   ]
  },
  {
   "cell_type": "code",
   "execution_count": null,
   "id": "5c14ddb9-b855-4570-a753-cbecf7ed86ab",
   "metadata": {},
   "outputs": [],
   "source": []
  }
 ],
 "metadata": {
  "kernelspec": {
   "display_name": "Python 3 (ipykernel)",
   "language": "python",
   "name": "python3"
  },
  "language_info": {
   "codemirror_mode": {
    "name": "ipython",
    "version": 3
   },
   "file_extension": ".py",
   "mimetype": "text/x-python",
   "name": "python",
   "nbconvert_exporter": "python",
   "pygments_lexer": "ipython3",
   "version": "3.11.3"
  }
 },
 "nbformat": 4,
 "nbformat_minor": 5
}
